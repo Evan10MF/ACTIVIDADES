{
  "nbformat": 4,
  "nbformat_minor": 0,
  "metadata": {
    "colab": {
      "provenance": [],
      "authorship_tag": "ABX9TyO5VeRl4FCkzPLUGBoCr2VC",
      "include_colab_link": true
    },
    "kernelspec": {
      "name": "python3",
      "display_name": "Python 3"
    },
    "language_info": {
      "name": "python"
    }
  },
  "cells": [
    {
      "cell_type": "markdown",
      "metadata": {
        "id": "view-in-github",
        "colab_type": "text"
      },
      "source": [
        "<a href=\"https://colab.research.google.com/github/Evan10MF/ACTIVIDADES/blob/main/EjecicioPython_1.ipynb\" target=\"_parent\"><img src=\"https://colab.research.google.com/assets/colab-badge.svg\" alt=\"Open In Colab\"/></a>"
      ]
    },
    {
      "cell_type": "code",
      "execution_count": null,
      "metadata": {
        "id": "RGgUCipBVYvg"
      },
      "outputs": [],
      "source": [
        "EjercicioPython_1_ IVAN MARTINEZ FABIAN - 1920753 - N1-N4"
      ]
    },
    {
      "cell_type": "code",
      "source": [
        "# Solicitar al usuario un número\n",
        "numero = int(input(\"Por favor, introduce un número: \"))\n",
        "\n",
        "# Verificar si el número es par o impar\n",
        "if numero % 2 == 0:\n",
        "    print(f\"{numero} es un número par.\")\n",
        "else:\n",
        "    print(f\"{numero} es un número impar.\")\n"
      ],
      "metadata": {
        "id": "_RUW38RpVlCd"
      },
      "execution_count": null,
      "outputs": []
    },
    {
      "cell_type": "code",
      "source": [
        "# Solicitar al usuario una lista de números separados por comas\n",
        "entrada_usuario = input(\"Ingresa una lista de números separados por comas: \")\n",
        "\n",
        "# Dividir la entrada en una lista de números\n",
        "numeros = entrada_usuario.split(\",\")\n",
        "\n",
        "# Convertir los números a enteros\n",
        "numeros = [int(numero) for numero in numeros]\n",
        "\n",
        "# Mostrar la lista de números ingresada por el usuario\n",
        "print(\"Lista de números ingresada por el usuario:\", numeros)\n"
      ],
      "metadata": {
        "id": "cKIoCQ3BWyq9"
      },
      "execution_count": null,
      "outputs": []
    },
    {
      "cell_type": "code",
      "source": [
        "# Invertir la lista\n",
        "numeros_invertidos = numeros[::-1]\n",
        "\n",
        "# Mostrar la lista en orden inverso\n",
        "print(\"Lista en orden inverso:\", numeros_invertidos)\n"
      ],
      "metadata": {
        "id": "TM_6Wg6aXTyI"
      },
      "execution_count": null,
      "outputs": []
    },
    {
      "cell_type": "code",
      "source": [
        "import random\n",
        "\n",
        "# Generar un número aleatorio entre 1 y 100\n",
        "numero_secreto = random.randint(1, 100)\n",
        "\n",
        "intentos = 0\n",
        "\n",
        "while True:\n",
        "    # Solicitar al usuario que adivine el número\n",
        "    intento = int(input(\"Adivina el número (entre 1 y 100): \"))\n",
        "    intentos += 1\n",
        "\n",
        "    # Comprobar si el intento del usuario es correcto\n",
        "    if intento == numero_secreto:\n",
        "        print(f\"¡Felicidades! Adivinaste el número {numero_secreto} en {intentos} intentos.\")\n",
        "        break\n",
        "    elif intento < numero_secreto:\n",
        "        print(\"El número secreto es mayor.\")\n",
        "    else:\n",
        "        print(\"El número secreto es menor.\")\n"
      ],
      "metadata": {
        "id": "K-88qRCGYSJN"
      },
      "execution_count": null,
      "outputs": []
    },
    {
      "cell_type": "code",
      "source": [
        "def es_primo(numero):\n",
        "    if numero <= 1:\n",
        "        return False\n",
        "    if numero <= 3:\n",
        "        return True\n",
        "    if numero % 2 == 0 or numero % 3 == 0:\n",
        "        return False\n",
        "\n",
        "    i = 5\n",
        "    while i * i <= numero:\n",
        "        if numero % i == 0 or numero % (i + 2) == 0:\n",
        "            return False\n",
        "        i += 6\n",
        "\n",
        "    return True\n",
        "\n",
        "# Solicitar al usuario un rango de números\n",
        "inicio = int(input(\"Ingrese el número de inicio del rango: \"))\n",
        "fin = int(input(\"Ingrese el número de fin del rango: \"))\n",
        "\n",
        "print(f\"Números primos en el rango de {inicio} a {fin}:\")\n",
        "for num in range(inicio, fin + 1):\n",
        "    if es_primo(num):\n",
        "        print(num)\n"
      ],
      "metadata": {
        "id": "0hCHPbYaYdma"
      },
      "execution_count": null,
      "outputs": []
    }
  ]
}